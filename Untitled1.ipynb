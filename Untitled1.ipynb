{
 "cells": [
  {
   "cell_type": "code",
   "execution_count": 41,
   "id": "0eddc2a5-59ab-42c3-b491-5edfba4550ef",
   "metadata": {},
   "outputs": [],
   "source": [
    "import pandas as pd\n",
    "import numpy as np"
   ]
  },
  {
   "cell_type": "code",
   "execution_count": 43,
   "id": "c68344e8-8f7d-47ca-a86e-7bc4e5915acb",
   "metadata": {},
   "outputs": [],
   "source": [
    "\n",
    "import matplotlib.pyplot as plt\n",
    "import seaborn as sns \n",
    "from sklearn.model_selection import train_test_split\n",
    "from sklearn.preprocessing import StandardScaler\n",
    "from sklearn.ensemble import RandomForestClassifier\n",
    "from sklearn.metrics import classification_report,accuracy_score"
   ]
  },
  {
   "cell_type": "code",
   "execution_count": 45,
   "id": "cd055c92-fb91-4dff-ba7c-64b5952753cf",
   "metadata": {},
   "outputs": [],
   "source": [
    "df=pd.read_csv(\"expanded_ecommerce_data.csv\")"
   ]
  },
  {
   "cell_type": "code",
   "execution_count": 47,
   "id": "b472100f-a133-4cff-bf7a-27b33a572a1b",
   "metadata": {},
   "outputs": [
    {
     "name": "stdout",
     "output_type": "stream",
     "text": [
      "                          Customer     Balance    Due Date  Days Overdue  \\\n",
      "0                ZEN POWER SYSTEMS    44981.60  2023-09-02         617.0   \n",
      "1     YCH LOGISTICS(INDIA) PVT LTD   130095.00  2024-10-02         221.0   \n",
      "2        VOLTECH ENGINEERS PVT LTD     9912.00  2024-11-02         190.0   \n",
      "3  VELLORE INSTITUTE OF TECHNOLOGY     5900.00  2025-03-22          50.0   \n",
      "4          UKL INSTRUMENTS PVT LTD  2481505.78  2023-02-09         822.0   \n",
      "\n",
      "  Last Invoice  Order ID    Location           Product List Return Status  \\\n",
      "0   GCS/22/111      1032   Bangalore           SMT Assembly            No   \n",
      "1    GCS/24-64      1847     Chennai       Double Layer PCB            No   \n",
      "2    GCS/24-67      2390  Coimbatore       Single Layer PCB            No   \n",
      "3    GCS/24-92      4125        Pune           SMT Assembly            No   \n",
      "4    GCS/25-16      5681        Pune  Through Hole Assembly           Yes   \n",
      "\n",
      "   Return Reason  \n",
      "0            NaN  \n",
      "1            NaN  \n",
      "2            NaN  \n",
      "3            NaN  \n",
      "4  Late delivery  \n"
     ]
    }
   ],
   "source": [
    "print(df.head())"
   ]
  },
  {
   "cell_type": "code",
   "execution_count": 49,
   "id": "d51fd7e4-dc83-4f25-810a-e76d534780f5",
   "metadata": {},
   "outputs": [
    {
     "name": "stdout",
     "output_type": "stream",
     "text": [
      "<class 'pandas.core.frame.DataFrame'>\n",
      "RangeIndex: 142 entries, 0 to 141\n",
      "Data columns (total 10 columns):\n",
      " #   Column         Non-Null Count  Dtype  \n",
      "---  ------         --------------  -----  \n",
      " 0   Customer       142 non-null    object \n",
      " 1   Balance        142 non-null    float64\n",
      " 2   Due Date       136 non-null    object \n",
      " 3   Days Overdue   136 non-null    float64\n",
      " 4   Last Invoice   136 non-null    object \n",
      " 5   Order ID       142 non-null    int64  \n",
      " 6   Location       142 non-null    object \n",
      " 7   Product List   142 non-null    object \n",
      " 8   Return Status  142 non-null    object \n",
      " 9   Return Reason  47 non-null     object \n",
      "dtypes: float64(2), int64(1), object(7)\n",
      "memory usage: 11.2+ KB\n",
      "None\n"
     ]
    }
   ],
   "source": [
    "print(df.info())"
   ]
  },
  {
   "cell_type": "code",
   "execution_count": 51,
   "id": "e74d0560-52b7-4ec9-b4a6-2b1fc60f51be",
   "metadata": {},
   "outputs": [
    {
     "name": "stdout",
     "output_type": "stream",
     "text": [
      "Customer          0\n",
      "Balance           0\n",
      "Due Date          6\n",
      "Days Overdue      6\n",
      "Last Invoice      6\n",
      "Order ID          0\n",
      "Location          0\n",
      "Product List      0\n",
      "Return Status     0\n",
      "Return Reason    95\n",
      "dtype: int64\n"
     ]
    }
   ],
   "source": [
    "print(df.isnull().sum())"
   ]
  },
  {
   "cell_type": "code",
   "execution_count": 53,
   "id": "1c043515-c9cb-446f-b74b-d69ea59c4767",
   "metadata": {},
   "outputs": [
    {
     "name": "stdout",
     "output_type": "stream",
     "text": [
      "            Balance  Days Overdue     Order ID\n",
      "count  1.420000e+02    136.000000   142.000000\n",
      "mean   4.324725e+05    520.955882  4899.225352\n",
      "std    1.413918e+06    295.461594  2602.283237\n",
      "min    2.655000e+03      0.000000  1025.000000\n",
      "25%    5.900000e+03    255.000000  2567.000000\n",
      "50%    2.500125e+04    579.000000  4796.500000\n",
      "75%    5.615030e+04    811.000000  7025.250000\n",
      "max    6.901174e+06    904.000000  9580.000000\n"
     ]
    }
   ],
   "source": [
    "print(df.describe())"
   ]
  },
  {
   "cell_type": "code",
   "execution_count": 55,
   "id": "261eaa33-0926-4711-9697-3ea0bea34e5f",
   "metadata": {},
   "outputs": [
    {
     "name": "stdout",
     "output_type": "stream",
     "text": [
      "(142, 10)\n"
     ]
    }
   ],
   "source": [
    "print(df.shape) "
   ]
  },
  {
   "cell_type": "code",
   "execution_count": 57,
   "id": "cd569380-5118-456b-b892-ea821859a37f",
   "metadata": {},
   "outputs": [
    {
     "name": "stdout",
     "output_type": "stream",
     "text": [
      "Customer         42\n",
      "Balance          38\n",
      "Due Date         40\n",
      "Days Overdue     40\n",
      "Last Invoice     41\n",
      "Order ID         42\n",
      "Location          8\n",
      "Product List      8\n",
      "Return Status     2\n",
      "Return Reason     5\n",
      "dtype: int64\n"
     ]
    }
   ],
   "source": [
    "print(df.nunique())"
   ]
  },
  {
   "cell_type": "code",
   "execution_count": 59,
   "id": "24c60266-4185-4558-840e-9e258e88a75e",
   "metadata": {},
   "outputs": [
    {
     "data": {
      "text/plain": [
       "<Axes: >"
      ]
     },
     "execution_count": 59,
     "metadata": {},
     "output_type": "execute_result"
    },
    {
     "data": {
      "image/png": "[encoded data removed]",
      "text/plain": [
       "<Figure size 640x480 with 2 Axes>"
      ]
     },
     "metadata": {},
     "output_type": "display_data"
    }
   ],
   "source": [
    "df_numeric = df.select_dtypes(include=[np.number])\n",
    "sns.heatmap(df_numeric.corr(), annot=True, cmap='coolwarm', fmt=\".2f\", linewidths=0.5)\n"
   ]
  },
  {
   "cell_type": "code",
   "execution_count": null,
   "id": "862f930a-e33d-4009-a2ec-0d2eac1e451c",
   "metadata": {},
   "outputs": [],
   "source": [
    "\n"
   ]
  },
  {
   "cell_type": "code",
   "execution_count": 62,
   "id": "675a3fc2-e518-43e4-a26d-fe11aa0b02e1",
   "metadata": {},
   "outputs": [
    {
     "name": "stdout",
     "output_type": "stream",
     "text": [
      "Mapping for Location:\n",
      "  Ahmedabad → 0\n",
      "  Bangalore → 1\n",
      "  Chennai → 2\n",
      "  Coimbatore → 3\n",
      "  Delhi → 4\n",
      "  Hyderabad → 5\n",
      "  Mumbai → 6\n",
      "  Pune → 7\n",
      "\n",
      "Mapping for Product List:\n",
      "  Component Sourcing → 0\n",
      "  Double Layer PCB → 1\n",
      "  Final Box Build → 2\n",
      "  Multi-layer PCB → 3\n",
      "  Prototype PCB → 4\n",
      "  SMT Assembly → 5\n",
      "  Single Layer PCB → 6\n",
      "  Through Hole Assembly → 7\n",
      "\n",
      "Mapping for Return Reason:\n",
      "  Defective item → 0\n",
      "  Late delivery → 1\n",
      "  Low quality → 2\n",
      "  Missing parts → 3\n",
      "  Wrong product delivered → 4\n",
      "  nan → 5\n",
      "\n",
      "Mapping for Return Status:\n",
      "  No → 0\n",
      "  Yes → 1\n",
      "\n"
     ]
    }
   ],
   "source": [
    "cols_to_encode = ['Location', 'Product List', 'Return Reason', 'Return Status']\n",
    "\n",
    "# Dictionary to store label mappings\n",
    "label_mappings = {}\n",
    "\n",
    "# Apply Label Encoding and store the mappings\n",
    "for col in cols_to_encode:\n",
    "    le = LabelEncoder()\n",
    "    df[col + '_encoded'] = le.fit_transform(df[col])\n",
    "    label_mappings[col] = dict(zip(le.classes_, le.transform(le.classes_)))\n",
    "\n",
    "# Show the mappings\n",
    "for col, mapping in label_mappings.items():\n",
    "    print(f\"Mapping for {col}:\")\n",
    "    for key, value in mapping.items():\n",
    "        print(f\"  {key} → {value}\")\n",
    "    print()"
   ]
  },
  {
   "cell_type": "code",
   "execution_count": null,
   "id": "908fae55-5d73-4274-9457-ec89d52b1ef0",
   "metadata": {},
   "outputs": [],
   "source": []
  }
 ],
 "metadata": {
  "kernelspec": {
   "display_name": "Python 3 (ipykernel)",
   "language": "python",
   "name": "python3"
  },
  "language_info": {
   "codemirror_mode": {
    "name": "ipython",
    "version": 3
   },
   "file_extension": ".py",
   "mimetype": "text/x-python",
   "name": "python",
   "nbconvert_exporter": "python",
   "pygments_lexer": "ipython3",
   "version": "3.11.7"
  }
 },
 "nbformat": 4,
 "nbformat_minor": 5
}
